{
 "cells": [
  {
   "cell_type": "code",
   "execution_count": 1,
   "metadata": {
    "ExecuteTime": {
     "end_time": "2019-08-06T09:21:21.440191Z",
     "start_time": "2019-08-06T09:21:21.266184Z"
    }
   },
   "outputs": [],
   "source": [
    "import numpy as np\n",
    "import matplotlib.pyplot as plt\n",
    "# create dummy data for training\n",
    "x_values = [i for i in range(11)]\n",
    "x_train = np.array(x_values, dtype=np.float32)\n",
    "x_train = x_train.reshape(-1, 1)\n",
    "\n",
    "y_values = [2*i + 1 for i in x_values]\n",
    "y_train = np.array(y_values, dtype=np.float32)\n",
    "y_train = y_train.reshape(-1, 1)"
   ]
  },
  {
   "cell_type": "code",
   "execution_count": 2,
   "metadata": {
    "ExecuteTime": {
     "end_time": "2019-08-06T09:21:21.486185Z",
     "start_time": "2019-08-06T09:21:21.482087Z"
    }
   },
   "outputs": [],
   "source": [
    "import torch\n",
    "from torch.autograd import Variable\n",
    "class linearRegression(torch.nn.Module):\n",
    "    def __init__(self, inputSize, outputSize):\n",
    "        super(linearRegression, self).__init__()\n",
    "        self.linear = torch.nn.Linear(inputSize, outputSize)\n",
    "\n",
    "    def forward(self, x):\n",
    "        out = self.linear(x)\n",
    "        return out"
   ]
  },
  {
   "cell_type": "code",
   "execution_count": 3,
   "metadata": {
    "ExecuteTime": {
     "end_time": "2019-08-06T09:21:21.696864Z",
     "start_time": "2019-08-06T09:21:21.693850Z"
    }
   },
   "outputs": [],
   "source": [
    "inputDim = 1        # takes variable 'x' \n",
    "outputDim = 1       # takes variable 'y'\n",
    "learningRate = 0.01 \n",
    "epochs = 100\n",
    "\n",
    "model = linearRegression(inputDim, outputDim)\n",
    "##### For GPU #######\n",
    "if torch.cuda.is_available():\n",
    "    model.cuda()"
   ]
  },
  {
   "cell_type": "code",
   "execution_count": 4,
   "metadata": {
    "ExecuteTime": {
     "end_time": "2019-08-06T09:21:21.885955Z",
     "start_time": "2019-08-06T09:21:21.883388Z"
    }
   },
   "outputs": [],
   "source": [
    "criterion = torch.nn.MSELoss() \n",
    "optimizer = torch.optim.SGD(model.parameters(), lr=learningRate)\n"
   ]
  },
  {
   "cell_type": "code",
   "execution_count": 5,
   "metadata": {
    "ExecuteTime": {
     "end_time": "2019-08-06T09:21:22.120712Z",
     "start_time": "2019-08-06T09:21:22.049463Z"
    }
   },
   "outputs": [
    {
     "name": "stdout",
     "output_type": "stream",
     "text": [
      "tensor(41.1386, grad_fn=<MseLossBackward>)\n",
      "epoch 0, loss 41.13859176635742\n",
      "tensor(3.3653, grad_fn=<MseLossBackward>)\n",
      "epoch 1, loss 3.365262985229492\n",
      "tensor(0.2841, grad_fn=<MseLossBackward>)\n",
      "epoch 2, loss 0.2841035723686218\n",
      "tensor(0.0327, grad_fn=<MseLossBackward>)\n",
      "epoch 3, loss 0.03267533704638481\n",
      "tensor(0.0121, grad_fn=<MseLossBackward>)\n",
      "epoch 4, loss 0.012061134912073612\n",
      "tensor(0.0103, grad_fn=<MseLossBackward>)\n",
      "epoch 5, loss 0.010274766944348812\n",
      "tensor(0.0100, grad_fn=<MseLossBackward>)\n",
      "epoch 6, loss 0.010025296360254288\n",
      "tensor(0.0099, grad_fn=<MseLossBackward>)\n",
      "epoch 7, loss 0.009902380406856537\n",
      "tensor(0.0098, grad_fn=<MseLossBackward>)\n",
      "epoch 8, loss 0.009790865704417229\n",
      "tensor(0.0097, grad_fn=<MseLossBackward>)\n",
      "epoch 9, loss 0.009681446477770805\n",
      "tensor(0.0096, grad_fn=<MseLossBackward>)\n",
      "epoch 10, loss 0.009573332034051418\n",
      "tensor(0.0095, grad_fn=<MseLossBackward>)\n",
      "epoch 11, loss 0.00946645624935627\n",
      "tensor(0.0094, grad_fn=<MseLossBackward>)\n",
      "epoch 12, loss 0.009360743686556816\n",
      "tensor(0.0093, grad_fn=<MseLossBackward>)\n",
      "epoch 13, loss 0.009256248362362385\n",
      "tensor(0.0092, grad_fn=<MseLossBackward>)\n",
      "epoch 14, loss 0.009152856655418873\n",
      "tensor(0.0091, grad_fn=<MseLossBackward>)\n",
      "epoch 15, loss 0.009050658904016018\n",
      "tensor(0.0089, grad_fn=<MseLossBackward>)\n",
      "epoch 16, loss 0.008949598297476768\n",
      "tensor(0.0088, grad_fn=<MseLossBackward>)\n",
      "epoch 17, loss 0.008849648758769035\n",
      "tensor(0.0088, grad_fn=<MseLossBackward>)\n",
      "epoch 18, loss 0.008750837296247482\n",
      "tensor(0.0087, grad_fn=<MseLossBackward>)\n",
      "epoch 19, loss 0.008653070777654648\n",
      "tensor(0.0086, grad_fn=<MseLossBackward>)\n",
      "epoch 20, loss 0.008556456305086613\n",
      "tensor(0.0085, grad_fn=<MseLossBackward>)\n",
      "epoch 21, loss 0.008460910059511662\n",
      "tensor(0.0084, grad_fn=<MseLossBackward>)\n",
      "epoch 22, loss 0.008366404101252556\n",
      "tensor(0.0083, grad_fn=<MseLossBackward>)\n",
      "epoch 23, loss 0.008273030631244183\n",
      "tensor(0.0082, grad_fn=<MseLossBackward>)\n",
      "epoch 24, loss 0.00818063784390688\n",
      "tensor(0.0081, grad_fn=<MseLossBackward>)\n",
      "epoch 25, loss 0.008089271374046803\n",
      "tensor(0.0080, grad_fn=<MseLossBackward>)\n",
      "epoch 26, loss 0.007998955436050892\n",
      "tensor(0.0079, grad_fn=<MseLossBackward>)\n",
      "epoch 27, loss 0.007909630425274372\n",
      "tensor(0.0078, grad_fn=<MseLossBackward>)\n",
      "epoch 28, loss 0.007821300067007542\n",
      "tensor(0.0077, grad_fn=<MseLossBackward>)\n",
      "epoch 29, loss 0.007733945269137621\n",
      "tensor(0.0076, grad_fn=<MseLossBackward>)\n",
      "epoch 30, loss 0.007647610269486904\n",
      "tensor(0.0076, grad_fn=<MseLossBackward>)\n",
      "epoch 31, loss 0.007562204264104366\n",
      "tensor(0.0075, grad_fn=<MseLossBackward>)\n",
      "epoch 32, loss 0.007477781269699335\n",
      "tensor(0.0074, grad_fn=<MseLossBackward>)\n",
      "epoch 33, loss 0.007394210435450077\n",
      "tensor(0.0073, grad_fn=<MseLossBackward>)\n",
      "epoch 34, loss 0.007311683613806963\n",
      "tensor(0.0072, grad_fn=<MseLossBackward>)\n",
      "epoch 35, loss 0.007230015005916357\n",
      "tensor(0.0071, grad_fn=<MseLossBackward>)\n",
      "epoch 36, loss 0.007149295881390572\n",
      "tensor(0.0071, grad_fn=<MseLossBackward>)\n",
      "epoch 37, loss 0.007069468032568693\n",
      "tensor(0.0070, grad_fn=<MseLossBackward>)\n",
      "epoch 38, loss 0.006990512367337942\n",
      "tensor(0.0069, grad_fn=<MseLossBackward>)\n",
      "epoch 39, loss 0.006912449840456247\n",
      "tensor(0.0068, grad_fn=<MseLossBackward>)\n",
      "epoch 40, loss 0.006835250183939934\n",
      "tensor(0.0068, grad_fn=<MseLossBackward>)\n",
      "epoch 41, loss 0.006758946925401688\n",
      "tensor(0.0067, grad_fn=<MseLossBackward>)\n",
      "epoch 42, loss 0.00668345158919692\n",
      "tensor(0.0066, grad_fn=<MseLossBackward>)\n",
      "epoch 43, loss 0.006608798634260893\n",
      "tensor(0.0065, grad_fn=<MseLossBackward>)\n",
      "epoch 44, loss 0.006535066291689873\n",
      "tensor(0.0065, grad_fn=<MseLossBackward>)\n",
      "epoch 45, loss 0.0064620948396623135\n",
      "tensor(0.0064, grad_fn=<MseLossBackward>)\n",
      "epoch 46, loss 0.006389894988387823\n",
      "tensor(0.0063, grad_fn=<MseLossBackward>)\n",
      "epoch 47, loss 0.006318539381027222\n",
      "tensor(0.0062, grad_fn=<MseLossBackward>)\n",
      "epoch 48, loss 0.006248005200177431\n",
      "tensor(0.0062, grad_fn=<MseLossBackward>)\n",
      "epoch 49, loss 0.0061782593838870525\n",
      "tensor(0.0061, grad_fn=<MseLossBackward>)\n",
      "epoch 50, loss 0.006109233014285564\n",
      "tensor(0.0060, grad_fn=<MseLossBackward>)\n",
      "epoch 51, loss 0.0060409922152757645\n",
      "tensor(0.0060, grad_fn=<MseLossBackward>)\n",
      "epoch 52, loss 0.005973535589873791\n",
      "tensor(0.0059, grad_fn=<MseLossBackward>)\n",
      "epoch 53, loss 0.00590685335919261\n",
      "tensor(0.0058, grad_fn=<MseLossBackward>)\n",
      "epoch 54, loss 0.005840896163135767\n",
      "tensor(0.0058, grad_fn=<MseLossBackward>)\n",
      "epoch 55, loss 0.005775643512606621\n",
      "tensor(0.0057, grad_fn=<MseLossBackward>)\n",
      "epoch 56, loss 0.0057111759670078754\n",
      "tensor(0.0056, grad_fn=<MseLossBackward>)\n",
      "epoch 57, loss 0.005647387355566025\n",
      "tensor(0.0056, grad_fn=<MseLossBackward>)\n",
      "epoch 58, loss 0.005584291648119688\n",
      "tensor(0.0055, grad_fn=<MseLossBackward>)\n",
      "epoch 59, loss 0.005521970335394144\n",
      "tensor(0.0055, grad_fn=<MseLossBackward>)\n",
      "epoch 60, loss 0.0054603032767772675\n",
      "tensor(0.0054, grad_fn=<MseLossBackward>)\n",
      "epoch 61, loss 0.0053993468172848225\n",
      "tensor(0.0053, grad_fn=<MseLossBackward>)\n",
      "epoch 62, loss 0.005339014809578657\n",
      "tensor(0.0053, grad_fn=<MseLossBackward>)\n",
      "epoch 63, loss 0.005279378965497017\n",
      "tensor(0.0052, grad_fn=<MseLossBackward>)\n",
      "epoch 64, loss 0.005220431834459305\n",
      "tensor(0.0052, grad_fn=<MseLossBackward>)\n",
      "epoch 65, loss 0.0051621682941913605\n",
      "tensor(0.0051, grad_fn=<MseLossBackward>)\n",
      "epoch 66, loss 0.005104517564177513\n",
      "tensor(0.0050, grad_fn=<MseLossBackward>)\n",
      "epoch 67, loss 0.005047512240707874\n",
      "tensor(0.0050, grad_fn=<MseLossBackward>)\n",
      "epoch 68, loss 0.004991133231669664\n",
      "tensor(0.0049, grad_fn=<MseLossBackward>)\n",
      "epoch 69, loss 0.004935396835207939\n",
      "tensor(0.0049, grad_fn=<MseLossBackward>)\n",
      "epoch 70, loss 0.004880302120000124\n",
      "tensor(0.0048, grad_fn=<MseLossBackward>)\n",
      "epoch 71, loss 0.004825827665627003\n",
      "tensor(0.0048, grad_fn=<MseLossBackward>)\n",
      "epoch 72, loss 0.0047719236463308334\n",
      "tensor(0.0047, grad_fn=<MseLossBackward>)\n",
      "epoch 73, loss 0.004718593787401915\n",
      "tensor(0.0047, grad_fn=<MseLossBackward>)\n",
      "epoch 74, loss 0.004665963351726532\n",
      "tensor(0.0046, grad_fn=<MseLossBackward>)\n",
      "epoch 75, loss 0.004613844677805901\n",
      "tensor(0.0046, grad_fn=<MseLossBackward>)\n",
      "epoch 76, loss 0.0045623136684298515\n",
      "tensor(0.0045, grad_fn=<MseLossBackward>)\n",
      "epoch 77, loss 0.004511380568146706\n",
      "tensor(0.0045, grad_fn=<MseLossBackward>)\n",
      "epoch 78, loss 0.00446101650595665\n",
      "tensor(0.0044, grad_fn=<MseLossBackward>)\n",
      "epoch 79, loss 0.004411150701344013\n",
      "tensor(0.0044, grad_fn=<MseLossBackward>)\n",
      "epoch 80, loss 0.0043619065545499325\n",
      "tensor(0.0043, grad_fn=<MseLossBackward>)\n",
      "epoch 81, loss 0.004313221201300621\n",
      "tensor(0.0043, grad_fn=<MseLossBackward>)\n",
      "epoch 82, loss 0.004265013616532087\n",
      "tensor(0.0042, grad_fn=<MseLossBackward>)\n",
      "epoch 83, loss 0.004217416048049927\n",
      "tensor(0.0042, grad_fn=<MseLossBackward>)\n",
      "epoch 84, loss 0.004170342348515987\n",
      "tensor(0.0041, grad_fn=<MseLossBackward>)\n",
      "epoch 85, loss 0.004123740829527378\n",
      "tensor(0.0041, grad_fn=<MseLossBackward>)\n",
      "epoch 86, loss 0.004077684134244919\n",
      "tensor(0.0040, grad_fn=<MseLossBackward>)\n",
      "epoch 87, loss 0.004032179247587919\n",
      "tensor(0.0040, grad_fn=<MseLossBackward>)\n",
      "epoch 88, loss 0.003987121395766735\n",
      "tensor(0.0039, grad_fn=<MseLossBackward>)\n",
      "epoch 89, loss 0.003942607901990414\n",
      "tensor(0.0039, grad_fn=<MseLossBackward>)\n",
      "epoch 90, loss 0.0038985975552350283\n",
      "tensor(0.0039, grad_fn=<MseLossBackward>)\n",
      "epoch 91, loss 0.0038550710305571556\n",
      "tensor(0.0038, grad_fn=<MseLossBackward>)\n",
      "epoch 92, loss 0.003812018781900406\n",
      "tensor(0.0038, grad_fn=<MseLossBackward>)\n",
      "epoch 93, loss 0.0037694412749260664\n",
      "tensor(0.0037, grad_fn=<MseLossBackward>)\n",
      "epoch 94, loss 0.0037273336201906204\n",
      "tensor(0.0037, grad_fn=<MseLossBackward>)\n",
      "epoch 95, loss 0.00368572142906487\n",
      "tensor(0.0036, grad_fn=<MseLossBackward>)\n",
      "epoch 96, loss 0.0036445888690650463\n",
      "tensor(0.0036, grad_fn=<MseLossBackward>)\n",
      "epoch 97, loss 0.0036038667894899845\n",
      "tensor(0.0036, grad_fn=<MseLossBackward>)\n",
      "epoch 98, loss 0.003563638310879469\n",
      "tensor(0.0035, grad_fn=<MseLossBackward>)\n",
      "epoch 99, loss 0.0035238349810242653\n"
     ]
    }
   ],
   "source": [
    "for epoch in range(epochs):\n",
    "    # Converting inputs and labels to Variable\n",
    "    if torch.cuda.is_available():\n",
    "        inputs = Variable(torch.from_numpy(x_train).cuda())\n",
    "        labels = Variable(torch.from_numpy(y_train).cuda())\n",
    "    else:\n",
    "        inputs = Variable(torch.from_numpy(x_train))\n",
    "        labels = Variable(torch.from_numpy(y_train))\n",
    "\n",
    "    # Clear gradient buffers because we don't want any gradient from previous epoch to carry forward, dont want to cummulate gradients\n",
    "    optimizer.zero_grad()\n",
    "\n",
    "    # get output from the model, given the inputs\n",
    "    outputs = model(inputs)\n",
    "\n",
    "    # get loss for the predicted output\n",
    "    loss = criterion(outputs, labels)\n",
    "    print(loss)\n",
    "    # get gradients w.r.t to parameters\n",
    "    loss.backward()\n",
    "\n",
    "    # update parameters\n",
    "    optimizer.step()\n",
    "\n",
    "    print('epoch {}, loss {}'.format(epoch, loss.item()))"
   ]
  },
  {
   "cell_type": "code",
   "execution_count": 6,
   "metadata": {
    "ExecuteTime": {
     "end_time": "2019-08-06T09:21:22.321914Z",
     "start_time": "2019-08-06T09:21:22.208024Z"
    }
   },
   "outputs": [
    {
     "name": "stdout",
     "output_type": "stream",
     "text": [
      "[[ 0.88957494]\n",
      " [ 2.9054773 ]\n",
      " [ 4.9213796 ]\n",
      " [ 6.9372816 ]\n",
      " [ 8.953184  ]\n",
      " [10.969087  ]\n",
      " [12.984988  ]\n",
      " [15.000891  ]\n",
      " [17.016792  ]\n",
      " [19.032694  ]\n",
      " [21.048597  ]]\n"
     ]
    },
    {
     "data": {
      "image/png": "[encoded data removed]",
      "text/plain": [
       "<Figure size 432x288 with 1 Axes>"
      ]
     },
     "metadata": {
      "needs_background": "light"
     },
     "output_type": "display_data"
    }
   ],
   "source": [
    "with torch.no_grad(): # we don't need gradients in the testing phase\n",
    "    if torch.cuda.is_available():\n",
    "        predicted = model(Variable(torch.from_numpy(x_train).cuda())).cpu().data.numpy()\n",
    "    else:\n",
    "        predicted = model(Variable(torch.from_numpy(x_train))).data.numpy()\n",
    "    print(predicted)\n",
    "\n",
    "plt.clf()\n",
    "plt.plot(x_train, y_train, 'go', label='True data', alpha=0.5)\n",
    "plt.plot(x_train, predicted, '--', label='Predictions', alpha=0.5)\n",
    "plt.legend(loc='best')\n",
    "plt.show()"
   ]
  },
  {
   "cell_type": "code",
   "execution_count": null,
   "metadata": {},
   "outputs": [],
   "source": []
  },
  {
   "cell_type": "code",
   "execution_count": null,
   "metadata": {},
   "outputs": [],
   "source": []
  }
 ],
 "metadata": {
  "kernelspec": {
   "display_name": "Python 3",
   "language": "python",
   "name": "python3"
  },
  "language_info": {
   "codemirror_mode": {
    "name": "ipython",
    "version": 3
   },
   "file_extension": ".py",
   "mimetype": "text/x-python",
   "name": "python",
   "nbconvert_exporter": "python",
   "pygments_lexer": "ipython3",
   "version": "3.6.7"
  },
  "latex_envs": {
   "LaTeX_envs_menu_present": true,
   "autoclose": false,
   "autocomplete": true,
   "bibliofile": "biblio.bib",
   "cite_by": "apalike",
   "current_citInitial": 1,
   "eqLabelWithNumbers": true,
   "eqNumInitial": 1,
   "hotkeys": {
    "equation": "Ctrl-E",
    "itemize": "Ctrl-I"
   },
   "labels_anchors": false,
   "latex_user_defs": false,
   "report_style_numbering": false,
   "user_envs_cfg": false
  },
  "toc": {
   "base_numbering": 1,
   "nav_menu": {},
   "number_sections": true,
   "sideBar": true,
   "skip_h1_title": false,
   "title_cell": "Table of Contents",
   "title_sidebar": "Contents",
   "toc_cell": false,
   "toc_position": {},
   "toc_section_display": true,
   "toc_window_display": false
  },
  "varInspector": {
   "cols": {
    "lenName": 16,
    "lenType": 16,
    "lenVar": 40
   },
   "kernels_config": {
    "python": {
     "delete_cmd_postfix": "",
     "delete_cmd_prefix": "del ",
     "library": "var_list.py",
     "varRefreshCmd": "print(var_dic_list())"
    },
    "r": {
     "delete_cmd_postfix": ") ",
     "delete_cmd_prefix": "rm(",
     "library": "var_list.r",
     "varRefreshCmd": "cat(var_dic_list()) "
    }
   },
   "types_to_exclude": [
    "module",
    "function",
    "builtin_function_or_method",
    "instance",
    "_Feature"
   ],
   "window_display": false
  }
 },
 "nbformat": 4,
 "nbformat_minor": 2
}
