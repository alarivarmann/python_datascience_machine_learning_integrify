{
 "cells": [
  {
   "cell_type": "markdown",
   "metadata": {},
   "source": [
    "# Solutions for exercises (OOP with Python)\n",
    "\n",
    "## Exercise 1: Creating class, attributes, methods with Online Shopping Cart\n",
    "Create a class called _Shopping_\n",
    "1. Each _Shopping_ must contain the following attributes:\n",
    "   - __name__ which indicates the name of the user example: Shopping(\"Rita\")\n",
    "   - __cart__ which indicates the list of goods selected..\n",
    "   - __balance__ which indicates the total cost of the goods selected. Default value is 0.0.\n",
    "   - __price\\_list__ which indicates the list of the prices of the items selected in the same order of item selection\n",
    "   <br>\n",
    "2. Each _Shopping_ must contain the following methods:\n",
    "   - __select__ which takes in the arguments: _item_ indicating item (default value None) selected and _price_ (default value None) indicating price of the good selected. Also, put the option to select items in a list with their prices like a dictionary. Put in an error check such that price is always positive and your code throws an error if user calls the method with a negative price. It should add the price to the price_list and add the price value to __balance__ attribute and the item name to the list attribute __cart__ . Finally it should return the new __cart__ attribute. \n",
    "   - __check_balance__ which returns a print statement as follows: \"Your current balance is {self.balance} Eur\"\n",
    "   - __remove_item__ which takes the attributes: _item_ indicating item(default value: None). It should subtract the price of the selected item from the __balance__ attribute and delete the item name from the list attribute __cart__ along with its price from the price list. Again put the option so that user can remove several items in a list. Put in an error check such that the name belongs to the list of items in cart and your code throws an error if user wants to remove an item which does not exist in the cart. Finally it should return the new __cart__ attribute.\n"
   ]
  },
  {
   "cell_type": "code",
   "execution_count": 35,
   "metadata": {},
   "outputs": [
    {
     "name": "stdout",
     "output_type": "stream",
     "text": [
      "['lemons', 'Jeans', 'oranges']\n",
      "[5, 50, 5]\n",
      "['lemons', 'Jeans', 'oranges', 'jeans2']\n",
      "[5, 50, 5, 50]\n",
      "110.0\n",
      "['lemons', 'Jeans']\n",
      "[5, 50]\n",
      "['Jeans']\n",
      "[50]\n"
     ]
    },
    {
     "data": {
      "text/plain": [
       "'Your current balance is 50.0 Eur.'"
      ]
     },
     "execution_count": 35,
     "metadata": {},
     "output_type": "execute_result"
    }
   ],
   "source": [
    "class Shopping:\n",
    "    def __init__(self,name, cart=[],price_list=[], balance=0.0):\n",
    "        self.cart = cart\n",
    "        if not self.cart:\n",
    "            self.cart=[]\n",
    "        self.name = name\n",
    "        self.price_list=price_list\n",
    "        self.balance = balance\n",
    "        \n",
    "    def add_item (self, obj, price):\n",
    "        self.cart.append(obj)\n",
    "        self.price_list.append(price)\n",
    "        self.balance+=price\n",
    "        \n",
    "    def select(self,item=None, price=None, **kwargs):\n",
    "        if item is not None and price is not None:\n",
    "            self.add_item(item, price)\n",
    "        for key,value in kwargs.items():\n",
    "            if value<0:\n",
    "                 raise ValueError(\" Price cannot be negative!\")            \n",
    "            else:\n",
    "                self.add_item(key, value)\n",
    "    def check_balance(self):\n",
    "        return (f'Your current balance is {self.balance} Eur.') \n",
    "    \n",
    "    def del_item(self,obj):\n",
    "        ind=self.cart.index(obj)\n",
    "        price=self.price_list[ind]\n",
    "        self.price_list.remove(price)\n",
    "        self.balance -=price\n",
    "        self.cart.remove(obj)        \n",
    "    \n",
    "    def remove_item(self,item=None, *args):\n",
    "        if item is not None:\n",
    "            self.del_item(item)\n",
    "        for obj in args:\n",
    "            if obj not in self.cart:\n",
    "                raise ValueError(f\"{obj} does not exist in cart!\")            \n",
    "            else:\n",
    "                self.del_item(obj)\n",
    "        return self.cart\n",
    "    \n",
    "buyer=Shopping('Ben')\n",
    "#kwarg ={\"jeans\"= 50}\n",
    "\n",
    "buyer.select('lemons', 5)\n",
    "kwargs={\"Jeans\": 50, \"oranges\": 5}\n",
    "buyer.select(**kwargs)\n",
    "print(buyer.cart)\n",
    "print(buyer.price_list)\n",
    "buyer.select(\"jeans2\", 50)\n",
    "print(buyer.cart)\n",
    "print(buyer.price_list)\n",
    "print(buyer.balance)\n",
    "\n",
    "args =['oranges', 'jeans2']\n",
    "buyer.remove_item(*args)\n",
    "print(buyer.cart)\n",
    "print(buyer.price_list)\n",
    "buyer.check_balance()\n",
    "\n",
    "buyer.remove_item('lemons')\n",
    "print(buyer.cart)\n",
    "print(buyer.price_list)\n",
    "buyer.check_balance()"
   ]
  },
  {
   "cell_type": "markdown",
   "metadata": {},
   "source": [
    "## Exercise 2: Multiple Inheritance and mro with Mendel's Dominant and Recessive Traits Theory\n",
    "Create two classes __Dominant__ and __Recessive__ having attributes:\n",
    "1. The dominant class has following attributes: __seed_shape__ (default='round'), __pod_color__ (default='green'), __flower_color__(default='purple')\n",
    "2. The recessive class has following attributes: __seed_shape__ (default='wrinkled'), __pod_color__ (default='yellow'), __flower_color__(default='white')\n",
    "3. Create subclass __Pea__ which inherits from the above two classes, having same attributes but donot spcify them. Let Python's mro assign them to the \"dominant\" traits."
   ]
  },
  {
   "cell_type": "code",
   "execution_count": 34,
   "metadata": {},
   "outputs": [
    {
     "name": "stdout",
     "output_type": "stream",
     "text": [
      "round\n",
      "green\n",
      "purple\n"
     ]
    }
   ],
   "source": [
    "class Dominant:\n",
    "    def __init__(self,seed_shape='round', pod_color='green', flower_color='purple'):\n",
    "        self.seed_shape=seed_shape\n",
    "        self.pod_color=pod_color\n",
    "        self.flower_color=flower_color\n",
    "class Recessive:\n",
    "    def __init__(self,seed_shape='wrinkled', pod_color='yellow', flower_color='white'):\n",
    "        self.seed_shape=seed_shape\n",
    "        self.pod_color=pod_color\n",
    "        self.flower_color=flower_color\n",
    "class Pea(Dominant, Recessive):\n",
    "    def __init__(self):\n",
    "        super().__init__()\n",
    "\n",
    "plant1=Pea()\n",
    "print(plant1.seed_shape)\n",
    "print(plant1.pod_color)\n",
    "print(plant1.flower_color)\n"
   ]
  },
  {
   "cell_type": "markdown",
   "metadata": {},
   "source": [
    "## Mail  Exercise Solution\n",
    "\n",
    "**Instead of the static method that we used, to update the behaviour of the class, we should use Class method because that takes the class as an input and updates the class state directly. Static method does not update the class state**"
   ]
  },
  {
   "cell_type": "code",
   "execution_count": 14,
   "metadata": {},
   "outputs": [
    {
     "name": "stdout",
     "output_type": "stream",
     "text": [
      "New email! You have 1 emails received.\n",
      "Message sent! You have 1 mails in Sent.\n",
      "Current state is 1 sent mails and 1 received mails\n",
      "New email! You have 2 emails received.\n",
      "Current state is 1 sent mails and 2 received mails\n"
     ]
    },
    {
     "data": {
      "text/plain": [
       "Current state is 1 sent mails and 2 received mails"
      ]
     },
     "execution_count": 14,
     "metadata": {},
     "output_type": "execute_result"
    }
   ],
   "source": [
    "class Mail:\n",
    "    sent_amount = 0\n",
    "    received_amount = 0\n",
    "    \n",
    "    def __init__(cls):\n",
    "        print(cls)\n",
    "    \n",
    "    @classmethod\n",
    "    def send_mail(cls):\n",
    "        cls.sent_amount += 1\n",
    "        print(f\"Message sent! You have {cls.sent_amount} mails in Sent.\")\n",
    "    \n",
    "    @classmethod\n",
    "    def receive_mail(cls):\n",
    "        cls.received_amount += 1\n",
    "        print(f\"New email! You have {cls.received_amount} emails received.\")\n",
    "        \n",
    "    def __repr__(cls):\n",
    "        return f\"Current state is {cls.sent_amount} sent mails and {cls.received_amount} received mails\"\n",
    "        \n",
    "Mail.receive_mail()\n",
    "Mail.send_mail()\n",
    "Mail()\n",
    "Mail.receive_mail()\n",
    "Mail()\n"
   ]
  },
  {
   "cell_type": "markdown",
   "metadata": {},
   "source": [
    "## Exercise 3: Inheritance, name wrangling, class methods with Online Video Calling App\n",
    "Create a class __VideoApp__\n",
    "1. The _VideoApp_ must contain the following class attributes:\n",
    "   - __participants_online__ which contains the number of active callers default to 0\n",
    "   - _action_ containing a list of 2 strings: \"speaking\", \"silent\"\n",
    "2. The_VideoApp_ must contain the class method:\n",
    "   - __show_participants_online__ which returns the following message: \"{cls.participants_online} are attending meeting.\"\n",
    "3.  The _VideoApp_ must contain the following attributes:\n",
    "   - __user_name__ which assigns name of the caller\n",
    "   - _company_ which indicates the company represented by the caller \n",
    "   \n",
    "4.  The _VideoApp_ must contain the following methods: \n",
    "   - __go_online__ which increases the attribute _participants_online by 1\n",
    "   - __go_offline__ which subtracts 1 from the attribute _participants_online and returns the new _participants_online\n",
    "   - _status_ which takes argument _action_ and checks if the action argument matches the string in the _action_ class attribute, otherwise throws ValueError: \"The user must either be \"speaking\" or \"silent\"\". It also returns the message: \"{self.user_name} is _action_\"\n"
   ]
  },
  {
   "cell_type": "code",
   "execution_count": 44,
   "metadata": {},
   "outputs": [
    {
     "data": {
      "text/plain": [
       "'Remy is silent'"
      ]
     },
     "execution_count": 44,
     "metadata": {},
     "output_type": "execute_result"
    }
   ],
   "source": [
    "class VideoApp:\n",
    "    participants_online=0, \n",
    "    action=['speaking', 'silent']\n",
    "    \n",
    "    @classmethod\n",
    "    def show_participants_online(cls):\n",
    "        print(f\"{cls.participants_online} are attending meeting\")\n",
    "    def __init__(self,user_name, company):\n",
    "        self.user_name=user_name\n",
    "        self.company = company\n",
    "    def go_online(self):\n",
    "        VideoApp.participants_online+=1 \n",
    "    def go_offline(self):\n",
    "        VideoApp.participants_online-=1 \n",
    "        return VideoApp.participants_online\n",
    "    def status(self, action):\n",
    "        if action not in VideoApp.action:\n",
    "            raise ValueError(\"The user must either be 'speaking' or 'silent'\")\n",
    "        return f\"{self.user_name} is {action}\"\n",
    "        \n",
    "user1=VideoApp('Remy', 'InfoRegister') \n",
    "user1.go_online\n",
    "user1.status('silent')\n",
    "    "
   ]
  },
  {
   "cell_type": "markdown",
   "metadata": {},
   "source": [
    "Create another class __Message__\n",
    "1. It has following attributes: \n",
    "   - __user_name__\n",
    "   - _message_\n",
    "2. It has one method:\n",
    "   - \\_status\\_ which returns: \"{self.user\\_name} sent the message: {self.message}\". Make this method a  \\_\\_method"
   ]
  },
  {
   "cell_type": "code",
   "execution_count": 53,
   "metadata": {},
   "outputs": [
    {
     "data": {
      "text/plain": [
       "'David sent the message: Hello! Good day to all.'"
      ]
     },
     "execution_count": 53,
     "metadata": {},
     "output_type": "execute_result"
    }
   ],
   "source": [
    "class Message:\n",
    "    def __init__(self, user_name, message):\n",
    "        self.user_name=user_name\n",
    "        self.message = message\n",
    "    def __status(self):\n",
    "        return f\"{self.user_name} sent the message: {self.message}\"\n",
    "\n",
    "user2=Message('David', 'Hello! Good day to all.')\n",
    "user2._Message__status()"
   ]
  },
  {
   "cell_type": "markdown",
   "metadata": {},
   "source": [
    "Create another class __ChatApp__ which inherits from both parent classes in the following order: __VideoApp__ and __Message__ \n",
    "1. Each _ChatApp_ takes same attributes as base classes\n",
    "\n",
    "Now create an instance of this class and explicity call the method \\_\\_status\\_\\_ from Message class"
   ]
  },
  {
   "cell_type": "code",
   "execution_count": 61,
   "metadata": {},
   "outputs": [
    {
     "name": "stdout",
     "output_type": "stream",
     "text": [
      "Kim sent the message: Lets start this meeting\n"
     ]
    }
   ],
   "source": [
    "class ChatApp(VideoApp, Message):\n",
    "    def __init__(self, user_name, company, message):\n",
    "        self.user_name=user_name\n",
    "        self.company=company\n",
    "        self.message=message\n",
    "        \n",
    "user3=ChatApp('Kim', 'FinnTech', 'Lets start this meeting')\n",
    "print(user3._Message__status())"
   ]
  },
  {
   "cell_type": "markdown",
   "metadata": {},
   "source": [
    "## Mailbox with Dunder Methods Solution"
   ]
  },
  {
   "cell_type": "code",
   "execution_count": 5,
   "metadata": {},
   "outputs": [
    {
     "name": "stdout",
     "output_type": "stream",
     "text": [
      "Message sent! You have 1 mails in Sent.\n",
      "\n",
      "Hi Michael\n",
      "Where do you want to have lunch tomorrow?\n",
      "\n",
      "Message sent! You have 2 mails in Sent.\n",
      "Wazzzzzup? Going to Integrify to learn some OOP today?\n",
      "{\n",
      "    \"Michael\": \"\\nHi Michael\\nWhere do you want to have lunch tomorrow?\\n\",\n",
      "    \"Simon\": \"Wazzzzzup? Going to Integrify to learn some OOP today?\"\n",
      "}\n"
     ]
    }
   ],
   "source": [
    "import json\n",
    "class Mail:\n",
    "    def __init__(self):\n",
    "        self.inbox=0\n",
    "        self.sent=0\n",
    "        self.emails = {}\n",
    "    def send_mail(self,to_whom=\"Michael\",email_body=\"\\nHi Michael\\nWhere do you want to have lunch tomorrow?\\n\"):\n",
    "        self.emails[to_whom]=email_body\n",
    "        self.sent+=1\n",
    "        print(f\"Message sent! You have {self.sent} mails in Sent.\")\n",
    "    def receive_mail(self):\n",
    "        self.inbox+=1\n",
    "        print(f\"New email! You have {self.inbox} emails.\")\n",
    "\n",
    "    def __len__(self):\n",
    "            return len(self.inbox)+len(self.sent)\n",
    "\n",
    "    def __getitem__(self, name):\n",
    "        print(self.emails.get(name))\n",
    "        \n",
    "    def __str__(self):\n",
    "        return json.dumps(self.emails,indent=4)\n",
    "\n",
    "m = Mail()\n",
    "m.send_mail()\n",
    "m[\"Michael\"]\n",
    "m.send_mail(\"Simon\",\"Wazzzzzup? Going to Integrify to learn some OOP today?\")\n",
    "m[\"Simon\"]\n",
    "print(m)"
   ]
  },
  {
   "cell_type": "markdown",
   "metadata": {},
   "source": [
    "## Solutions:\n",
    "1. The arguments with default values are use_cuda (default:True), metrics_to_monitor(default:None), benchmark(default:False),                 verbose(default:False), frequency(default:None), weight_decay(default:1e-6), early_stopping_kwargs(default:dict()),data_loader_kwargs(default:dict())\n",
    "2. 2 model names which can be used during instatiating class Trainer are: \"VAE\", \"VAEC\". Also \"SCANVI\" can be used.\n",
    "3. From the definition of \\_\\_init\\_\\_ method, we can see early_stopping_kwargs and data_loader_kwargs are the two arguments which take in a dictionary and hence can be variable length\n",
    "4. The methods used in Trainer class are: \\_\\_init\\_\\_, \\_\\_getattr\\_\\_, \\_\\_delattr\\_\\_, register\\_posterior, corrupt\\_posteriors. Of these \\_\\_init\\_\\_ , \\_\\_getattr\\_\\_, \\_\\_delattr\\_\\_ are the dunder methods\n",
    "5. The corrupt_posteriors function definition is modified as shown below:\n"
   ]
  },
  {
   "cell_type": "code",
   "execution_count": null,
   "metadata": {
    "collapsed": true
   },
   "outputs": [],
   "source": [
    "@property\n",
    "def corrupt_posteriors(self, rate=0.1, corruption=\"uniform\", update_corruption=True):\n",
    "        if not hasattr(self.gene_dataset, 'corrupted') and update_corruption:\n",
    "            self.gene_dataset.corrupt(rate=rate, corruption=corruption)\n",
    "        for name, posterior in self._posteriors.items():\n",
    "            self.register_posterior(name, posterior.corrupted())\n",
    "            \n",
    "            \n",
    "# When the actual code runs, you would be able to call it like this:\n",
    "# trainer1=Trainer(VAE, gene_dataset,**early_stopping_kwargs,**data_loader_kwargs)\n",
    "# trainer1.corrupt_posteriors"
   ]
  },
  {
   "cell_type": "markdown",
   "metadata": {},
   "source": [
    "###  Exercise 4.2\n",
    "The following is an excerpt from the __Inference.py__ file under inference subfolder. The whole file is available under: __[scVI_inference.py](https://github.com/YosefLab/scVI/blob/master/scvi/inference/inference.py)__"
   ]
  },
  {
   "cell_type": "code",
   "execution_count": 37,
   "metadata": {
    "collapsed": true
   },
   "outputs": [],
   "source": [
    "class UnsupervisedTrainer(Trainer):\n",
    "    r\"\"\"The VariationalInference class for the unsupervised training of an autoencoder.\n",
    "    Args:\n",
    "        :model: A model instance from class ``VAE``, ``VAEC``, ``SCANVI``\n",
    "        :gene_dataset: A gene_dataset instance like ``CortexDataset()``\n",
    "        :train_size: The train size, either a float between 0 and 1 or and integer for the number of training samples\n",
    "         to use Default: ``0.8``.\n",
    "        :\\*\\*kwargs: Other keywords arguments from the general Trainer class.\n",
    "    Examples:\n",
    "        >>> gene_dataset = CortexDataset()\n",
    "        >>> vae = VAE(gene_dataset.nb_genes, n_batch=gene_dataset.n_batches * False,\n",
    "        ... n_labels=gene_dataset.n_labels)\n",
    "        >>> infer = VariationalInference(gene_dataset, vae, train_size=0.5)\n",
    "        >>> infer.train(n_epochs=20, lr=1e-3)\n",
    "    \"\"\"\n",
    "    default_metrics_to_monitor = ['ll']\n",
    "\n",
    "    def __init__(self, model, gene_dataset, train_size=0.8, test_size=None, kl=None, **kwargs):\n",
    "        super().__init__(model, gene_dataset, **kwargs)\n",
    "        self.kl = kl\n",
    "        if type(self) is UnsupervisedTrainer:\n",
    "            self.train_set, self.test_set = self.train_test(model, gene_dataset, train_size, test_size)\n",
    "            self.train_set.to_monitor = ['ll']\n",
    "            self.test_set.to_monitor = ['ll']\n",
    "\n",
    "    @property\n",
    "    def posteriors_loop(self):\n",
    "        return ['train_set']\n",
    "\n",
    "\n",
    "class AdapterTrainer(UnsupervisedTrainer):\n",
    "    def __init__(self, model, gene_dataset, posterior_test, frequency=5):\n",
    "        super().__init__(model, gene_dataset, frequency=frequency)\n",
    "        self.test_set = posterior_test\n",
    "        self.test_set.to_monitor = ['ll']\n",
    "        self.params = list(self.model.z_encoder.parameters()) + list(self.model.l_encoder.parameters())\n",
    "\n",
    "    @property\n",
    "    def posteriors_loop(self):\n",
    "        return ['test_set']\n",
    "\n",
    "    def train(self, n_path=10, n_epochs=50, **kwargs):\n",
    "        for i in range(n_path):\n",
    "            # Re-initialize to create new path\n",
    "            self.model.z_encoder.load_state_dict(self.z_encoder_state)\n",
    "            self.model.l_encoder.load_state_dict(self.l_encoder_state)\n",
    "            super().train(n_epochs, params=self.params, **kwargs)\n",
    "\n",
    "        return min(self.history[\"ll_test_set\"])"
   ]
  },
  {
   "cell_type": "markdown",
   "metadata": {},
   "source": [
    "Answer the following questions:\n",
    "1. Which class does __UnsupervisedTrainer__ inherit from?\n",
    "2. If we print the AdapterTrainer.\\_\\_mro\\_\\_, what order of inheritance would you see?\n",
    "3. Look at the __posteriors\\_loop__ method for the class AdapterTrainer. Modify the code such that now we donot want this to be the attribute of the class, but rather as a method which takes in argument _set_ and returns this value and default it to ['test_set']"
   ]
  },
  {
   "cell_type": "markdown",
   "metadata": {},
   "source": [
    "## Solutions\n",
    "1. UnsupervisedTrainer inherits from the Trainer class.\n",
    "2. The AdapterTrainer inherits from UnsupervisedTrainer which inherits from Trainer so the order of mro is:  AdapterTrainer > UnsupervisedTrainer>Trainer"
   ]
  },
  {
   "cell_type": "code",
   "execution_count": 39,
   "metadata": {},
   "outputs": [
    {
     "name": "stdout",
     "output_type": "stream",
     "text": [
      "(<class '__main__.AdapterTrainer'>, <class '__main__.UnsupervisedTrainer'>, <class '__main__.Trainer'>, <class 'object'>)\n"
     ]
    }
   ],
   "source": [
    "print(AdapterTrainer.__mro__)"
   ]
  },
  {
   "cell_type": "code",
   "execution_count": 40,
   "metadata": {
    "collapsed": true
   },
   "outputs": [],
   "source": [
    "class AdapterTrainer(UnsupervisedTrainer):\n",
    "    def __init__(self, model, gene_dataset, posterior_test, frequency=5):\n",
    "        super().__init__(model, gene_dataset, frequency=frequency)\n",
    "        self.test_set = posterior_test\n",
    "        self.test_set.to_monitor = ['ll']\n",
    "        self.params = list(self.model.z_encoder.parameters()) + list(self.model.l_encoder.parameters())\n",
    "\n",
    "    def posteriors_loop(self, set=['test_set'):\n",
    "        return set\n",
    "\n",
    "    def train(self, n_path=10, n_epochs=50, **kwargs):\n",
    "        for i in range(n_path):\n",
    "            # Re-initialize to create new path\n",
    "            self.model.z_encoder.load_state_dict(self.z_encoder_state)\n",
    "            self.model.l_encoder.load_state_dict(self.l_encoder_state)\n",
    "            super().train(n_epochs, params=self.params, **kwargs)\n",
    "\n",
    "        return min(self.history[\"ll_test_set\"])"
   ]
  },
  {
   "cell_type": "markdown",
   "metadata": {},
   "source": [
    "## Decorator Exercise Solution"
   ]
  },
  {
   "cell_type": "code",
   "execution_count": 1,
   "metadata": {},
   "outputs": [
    {
     "name": "stdout",
     "output_type": "stream",
     "text": [
      "Executing sum_nums_gen\n",
      "Time Elapsed: 13.924826622009277\n",
      "4049999955000000\n",
      "Executing sum_nums_list\n",
      "Time Elapsed: 14.889441728591919\n",
      "4049999955000000\n"
     ]
    }
   ],
   "source": [
    "from functools import wraps\n",
    "from time import time\n",
    "\n",
    "def speed_test(fn):\n",
    "\t@wraps(fn)\n",
    "\tdef wrapper(*args, **kwargs):\n",
    "\t\tstart_time = time()\n",
    "\t\tresult = fn(*args, **kwargs)\n",
    "\t\tend_time = time()\n",
    "\t\tprint(f\"Executing {fn.__name__}\")\n",
    "\t\tprint(f\"Time Elapsed: {end_time - start_time}\")\n",
    "\t\treturn result\n",
    "\treturn wrapper\n",
    "\n",
    "@speed_test\n",
    "def sum_nums_gen():\n",
    "\treturn sum(x for x in range(90000000))\n",
    "\n",
    "@speed_test\n",
    "def sum_nums_list():\n",
    "\treturn sum([x for x in range(90000000)])\n",
    "\n",
    "\n",
    "print(sum_nums_gen())\n",
    "print(sum_nums_list())\n"
   ]
  },
  {
   "cell_type": "markdown",
   "metadata": {},
   "source": [
    "## Exercise 5 Solution"
   ]
  },
  {
   "cell_type": "code",
   "execution_count": 8,
   "metadata": {},
   "outputs": [
    {
     "name": "stdout",
     "output_type": "stream",
     "text": [
      "PersonalDetails_Patient_features(date_of_birth='09-04-1991', eye_color='Green', blood_pressure=90)\n"
     ]
    }
   ],
   "source": [
    "from collections import namedtuple\n",
    "from functools import reduce\n",
    "from itertools import chain\n",
    "from operator import add\n",
    "class MedicalRecord:\n",
    "    \n",
    "    @staticmethod\n",
    "    def merge(*args):\n",
    "        \"\"\"\n",
    "        :param records: (varargs list of namedtuple) The patient details.\n",
    "        :returns: (namedtuple) named Patient, containing details from all records, in entry order.\n",
    "        \"\"\"\n",
    "        \n",
    "        cls = namedtuple('_'.join(arg.__class__.__name__ for arg in args), \n",
    "                         reduce(add, (arg._fields for arg in args)))\n",
    "        \n",
    "        cls = namedtuple('_'.join(arg.__class__.__name__ for arg in args), \n",
    "                         reduce(add, (arg._fields for arg in args)))\n",
    "        return cls(*chain(*args))\n",
    "        \n",
    "\n",
    "        \n",
    "PersonalDetails = namedtuple('PersonalDetails', ['date_of_birth'])\n",
    "patient_1_details = PersonalDetails(date_of_birth = '09-04-1991')\n",
    "                                   \n",
    "Patient_features = namedtuple('Patient_features', ['eye_color', 'blood_pressure'])\n",
    "patient_1_features = Patient_features(eye_color = 'Green', blood_pressure = 90)\n",
    "  \n",
    "print(MedicalRecord.merge(patient_1_details, patient_1_features))"
   ]
  },
  {
   "cell_type": "code",
   "execution_count": 2,
   "metadata": {},
   "outputs": [
    {
     "name": "stdout",
     "output_type": "stream",
     "text": [
      "dict_keys(['date_of_birth', 'eye_color', 'blood_pressure'])\n",
      "Person(date_of_birth='09-04-1991', eye_color='Green', blood_pressure=90)\n"
     ]
    }
   ],
   "source": [
    "#solution2 https://stackoverflow.com/questions/35282222/in-python-how-do-i-cast-a-class-object-to-a-dict/35282286\n",
    "from collections import namedtuple\n",
    "class PersonalJoiner:\n",
    "    \n",
    "    # Params varargs list of namedtuple representing the patient details.\n",
    "    # Returns namedtuple, named Patient containing details from all records, in entry order.\n",
    "    @staticmethod\n",
    "    def join(*records):\n",
    "        \n",
    "        kwargs = dict()\n",
    "        for r in records:\n",
    "            kwargs.update(r._asdict())\n",
    "        print(kwargs.keys())\n",
    "        Person = namedtuple('Person', kwargs.keys())\n",
    "        return Person(**kwargs)\n",
    "\n",
    "PersonalDetails = namedtuple('PersonalDetails', ['date_of_birth'])\n",
    "person_1_details = PersonalDetails(date_of_birth = '09-04-1991')\n",
    "                                   \n",
    "person_1_features = namedtuple('Patient_features', ['eye_color', 'blood_pressure'])\n",
    "person_1_features = person_1_features(eye_color = 'Green', blood_pressure = 90)\n",
    "  \n",
    "print(PersonalJoiner.join(person_1_details, person_1_features))"
   ]
  },
  {
   "cell_type": "code",
   "execution_count": 6,
   "metadata": {},
   "outputs": [
    {
     "data": {
      "text/plain": [
       "{'date_of_birth': '09-04-1991', 'eye_color': 'Green', 'blood_pressure': 90}"
      ]
     },
     "execution_count": 6,
     "metadata": {},
     "output_type": "execute_result"
    }
   ],
   "source": [
    "kwargs = dict()\n",
    "r = [person_1_details, person_1_features ]\n",
    "for i in r:\n",
    "    kwargs.update(i._asdict())\n",
    "kwargs"
   ]
  },
  {
   "cell_type": "code",
   "execution_count": 11,
   "metadata": {},
   "outputs": [],
   "source": [
    "new = namedtuple('Whatever',kwargs.keys())"
   ]
  },
  {
   "cell_type": "code",
   "execution_count": 12,
   "metadata": {},
   "outputs": [
    {
     "data": {
      "text/plain": [
       "__main__.Whatever"
      ]
     },
     "execution_count": 12,
     "metadata": {},
     "output_type": "execute_result"
    }
   ],
   "source": [
    "new"
   ]
  },
  {
   "cell_type": "code",
   "execution_count": 19,
   "metadata": {},
   "outputs": [
    {
     "name": "stdout",
     "output_type": "stream",
     "text": [
      "<class '__main__.Whatever'>\n"
     ]
    }
   ],
   "source": []
  },
  {
   "cell_type": "code",
   "execution_count": null,
   "metadata": {},
   "outputs": [],
   "source": []
  }
 ],
 "metadata": {
  "kernelspec": {
   "display_name": "Python 3",
   "language": "python",
   "name": "python3"
  },
  "language_info": {
   "codemirror_mode": {
    "name": "ipython",
    "version": 3
   },
   "file_extension": ".py",
   "mimetype": "text/x-python",
   "name": "python",
   "nbconvert_exporter": "python",
   "pygments_lexer": "ipython3",
   "version": "3.6.7"
  },
  "toc": {
   "base_numbering": 1,
   "nav_menu": {},
   "number_sections": true,
   "sideBar": true,
   "skip_h1_title": false,
   "title_cell": "Table of Contents",
   "title_sidebar": "Contents",
   "toc_cell": false,
   "toc_position": {},
   "toc_section_display": true,
   "toc_window_display": true
  },
  "varInspector": {
   "cols": {
    "lenName": 16,
    "lenType": 16,
    "lenVar": 40
   },
   "kernels_config": {
    "python": {
     "delete_cmd_postfix": "",
     "delete_cmd_prefix": "del ",
     "library": "var_list.py",
     "varRefreshCmd": "print(var_dic_list())"
    },
    "r": {
     "delete_cmd_postfix": ") ",
     "delete_cmd_prefix": "rm(",
     "library": "var_list.r",
     "varRefreshCmd": "cat(var_dic_list()) "
    }
   },
   "types_to_exclude": [
    "module",
    "function",
    "builtin_function_or_method",
    "instance",
    "_Feature"
   ],
   "window_display": false
  }
 },
 "nbformat": 4,
 "nbformat_minor": 2
}
