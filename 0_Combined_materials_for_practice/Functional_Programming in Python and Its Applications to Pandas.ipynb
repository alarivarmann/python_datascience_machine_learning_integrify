{
 "cells": [
  {
   "cell_type": "markdown",
   "metadata": {},
   "source": [
    "## TASKS"
   ]
  },
  {
   "cell_type": "markdown",
   "metadata": {},
   "source": [
    "### Task 1 \n",
    "Write functional programming code to apply a list of functions on a list of integers. Explain how it works as well and how it relates to functional programing.\n",
    "\n",
    "### Task 2 \n",
    "Find the greatest common divisor of a list of numbers using Reduce. Explain how the code works as well. Explain how it works as well and how it relates to functional programing.\n",
    "\n",
    "### Task 3 \n",
    "Write a function groupby_demonstrator that takes as a list of tuples as an input (arg data) as well as boolean argument (verify_sorted). If verify_sorted is true, the list is sorted by the first key (0-th tuple element), otherwise it is not sorted.\n",
    "The function should print out key-value pairs by groups (as output from Python groupby). The print statements between groups should have an empty line. Print statements inside-group should not have empty lines in between (just new lines between records).\n",
    "\n",
    "Add a decorator ‘ensure_sourted_grouper’ that overrides the grouping, by making sure that the list is sorted when an argument ‘verify_sorted’ = True is passed. Otherwise, “You didn’t enforce the order” is printed to the console.\n"
   ]
  },
  {
   "cell_type": "markdown",
   "metadata": {},
   "source": [
    "## Solutions"
   ]
  },
  {
   "cell_type": "markdown",
   "metadata": {},
   "source": [
    "### Applying Unary Functions to list of arguments"
   ]
  },
  {
   "cell_type": "code",
   "execution_count": 2,
   "metadata": {},
   "outputs": [
    {
     "name": "stdout",
     "output_type": "stream",
     "text": [
      "0\n",
      "[0, 0, 1]\n",
      "1\n",
      "[1, 2, 2]\n"
     ]
    }
   ],
   "source": [
    "def multiply(x):\n",
    "    return (x*x)\n",
    "def add(x):\n",
    "    return (x+x)\n",
    "\n",
    "def exponentiate(x):\n",
    "    return 2**x\n",
    "\n",
    "funcs = [multiply, add,exponentiate]\n",
    "for i in range(2):\n",
    "    print(i)\n",
    "    value = list(map(lambda x: x(i), funcs))\n",
    "    print(value)\n",
    "\n",
    "# but since For-loop is a signature of Imperative Programming, it is better to use purely functional programming\n",
    "\n",
    "from functools import reduce\n",
    "\n",
    "list(map(lambda x,y: x(y),funcs,l1))"
   ]
  },
  {
   "cell_type": "markdown",
   "metadata": {},
   "source": [
    "## Building a Higher Order Function to Ensure that Another function works in an expected manner"
   ]
  },
  {
   "cell_type": "code",
   "execution_count": 4,
   "metadata": {},
   "outputs": [
    {
     "name": "stdout",
     "output_type": "stream",
     "text": [
      "A Audi is a car.\n",
      " \n",
      "A tram is a vehicle.\n",
      " \n",
      "A duck is a person.\n",
      " \n",
      "A cactus is a plant.\n",
      " \n",
      "A speed boat is a vehicle.\n",
      "A school bus is a vehicle.\n",
      " \n"
     ]
    }
   ],
   "source": [
    "### Use of Decorator to Get Itertools Groupby to work in a sorted fashion, similarly to Pandas Groupby\n",
    "\n",
    "from itertools import groupby\n",
    "\n",
    "things = [(\"car\", \"Audi\"),  (\"vehicle\", \"tram\"), (\"person\", \"duck\"), (\"plant\", \"cactus\"), \n",
    "          (\"vehicle\", \"speed boat\"), (\"vehicle\", \"school bus\")]\n",
    "\n",
    "for key, group in groupby(things, lambda x: x[0]):\n",
    "    for thing in group:\n",
    "        print(\"A %s is a %s.\" % (thing[1], key))\n",
    "    print(\" \")"
   ]
  },
  {
   "cell_type": "code",
   "execution_count": 5,
   "metadata": {},
   "outputs": [
    {
     "name": "stdout",
     "output_type": "stream",
     "text": [
      "The raw data looks like [('car', 'Audi'), ('person', 'Tom'), ('plant', 'cactus'), ('car', 'BMW'), ('plant', 'tomato plant'), ('person', 'Michael')]\n",
      "\n",
      "car is a Audi.\n",
      "car is a BMW.\n",
      " \n",
      "person is a Tom.\n",
      "person is a Michael.\n",
      " \n",
      "plant is a cactus.\n",
      "plant is a tomato plant.\n",
      " \n"
     ]
    }
   ],
   "source": [
    "from itertools import groupby\n",
    "from functools import wraps\n",
    "\n",
    "def ensure_sorted_grouper(fun):\n",
    "    @wraps(fun)\n",
    "    def wrapper_calling_fun(*args,**kwargs):\n",
    "        if kwargs.get(\"ensure_order\")==\"yes\":\n",
    "            kwargs['verify_sorted']=True\n",
    "            fun(*args,**kwargs)\n",
    "        else :\n",
    "            print(\"You didn't enforce ensured order!\")\n",
    "    return wrapper_calling_fun\n",
    "\n",
    "things = [(\"car\", \"Audi\"), (\"person\", \"Tom\"), (\"plant\", \"cactus\"), \n",
    "          (\"car\", \"BMW\"), (\"plant\", \"tomato plant\"), (\"person\", \"Michael\")]\n",
    "\n",
    "\n",
    "@ensure_sorted_grouper\n",
    "def groupby_demonstrator(data=things,verify_sorted = False,**kwargs):\n",
    "    print(f\"The raw data looks like {str(things)}\\n\")\n",
    "    if verify_sorted == True:\n",
    "        data = sorted(data, key = lambda x : x[0],reverse=False) \n",
    "\n",
    "    for key, group in groupby(data, lambda x: x[0]):\n",
    "        for thing in group:\n",
    "            print(\"%s is a %s.\" % (thing[0], thing[1]))\n",
    "        print(\" \")\n",
    "\n",
    "groupby_demonstrator(verify_sorted=False,ensure_order=\"yes\")"
   ]
  },
  {
   "cell_type": "code",
   "execution_count": 6,
   "metadata": {},
   "outputs": [
    {
     "name": "stdout",
     "output_type": "stream",
     "text": [
      "That key car has value Audi\n",
      "That key person has value Tom\n",
      "That key plant has value cactus\n",
      "That key car has value BMW\n",
      "That key plant has value tomato plant\n",
      "That key person has value Michael\n"
     ]
    }
   ],
   "source": [
    "for key,group in groupby(things, lambda x: x[0]):\n",
    "    for it in group:\n",
    "        print(\"That key %s has value %s\" % (it[0],it[1]))"
   ]
  },
  {
   "cell_type": "code",
   "execution_count": 7,
   "metadata": {},
   "outputs": [
    {
     "name": "stdout",
     "output_type": "stream",
     "text": [
      "Collecting perfplot\n",
      "  Downloading https://files.pythonhosted.org/packages/bd/1f/6c6ca664ad14120960da5efb1de0b2cfb60fd27442b7bb3456a58b28251d/perfplot-0.6.1-py3-none-any.whl\n",
      "Collecting termtables (from perfplot)\n",
      "  Downloading https://files.pythonhosted.org/packages/9c/ea/38af3736093336f7749e14da30f5517235f0d4e1ba380529b3118450ff50/termtables-0.1.0-py3-none-any.whl\n",
      "Requirement already satisfied: matplotlib in /home/alari/anaconda3/lib/python3.7/site-packages (from perfplot) (3.0.3)\n",
      "Requirement already satisfied: tqdm in /home/alari/anaconda3/lib/python3.7/site-packages (from perfplot) (4.31.1)\n",
      "Requirement already satisfied: numpy in /home/alari/anaconda3/lib/python3.7/site-packages (from perfplot) (1.16.2)\n",
      "Requirement already satisfied: cycler>=0.10 in /home/alari/anaconda3/lib/python3.7/site-packages (from matplotlib->perfplot) (0.10.0)\n",
      "Requirement already satisfied: kiwisolver>=1.0.1 in /home/alari/anaconda3/lib/python3.7/site-packages (from matplotlib->perfplot) (1.0.1)\n",
      "Requirement already satisfied: pyparsing!=2.0.4,!=2.1.2,!=2.1.6,>=2.0.1 in /home/alari/anaconda3/lib/python3.7/site-packages (from matplotlib->perfplot) (2.3.1)\n",
      "Requirement already satisfied: python-dateutil>=2.1 in /home/alari/anaconda3/lib/python3.7/site-packages (from matplotlib->perfplot) (2.8.0)\n",
      "Requirement already satisfied: six in /home/alari/anaconda3/lib/python3.7/site-packages (from cycler>=0.10->matplotlib->perfplot) (1.12.0)\n",
      "Requirement already satisfied: setuptools in /home/alari/anaconda3/lib/python3.7/site-packages (from kiwisolver>=1.0.1->matplotlib->perfplot) (40.8.0)\n",
      "Installing collected packages: termtables, perfplot\n",
      "Successfully installed perfplot-0.6.1 termtables-0.1.0\n"
     ]
    }
   ],
   "source": [
    "!pip install perfplot --user"
   ]
  },
  {
   "cell_type": "markdown",
   "metadata": {},
   "source": [
    "### Interlude : Comparing Concatenation Operator Running Times"
   ]
  },
  {
   "cell_type": "code",
   "execution_count": 2,
   "metadata": {},
   "outputs": [
    {
     "name": "stderr",
     "output_type": "stream",
     "text": [
      "  0%|          | 0/16 [00:00<?, ?it/s]\n",
      "  0%|          | 0/7 [00:00<?, ?it/s]\u001b[A\n",
      " 14%|█▍        | 1/7 [00:00<00:02,  2.58it/s]\u001b[A\n",
      " 29%|██▊       | 2/7 [00:00<00:02,  2.20it/s]\u001b[A\n",
      " 43%|████▎     | 3/7 [00:01<00:01,  2.17it/s]\u001b[A\n",
      " 57%|█████▋    | 4/7 [00:01<00:01,  2.22it/s]\u001b[A\n",
      " 71%|███████▏  | 5/7 [00:02<00:00,  2.11it/s]\u001b[A\n",
      " 86%|████████▌ | 6/7 [00:02<00:00,  2.29it/s]\u001b[A\n",
      "  6%|▋         | 1/16 [00:03<00:47,  3.15s/it][A\n",
      "  0%|          | 0/7 [00:00<?, ?it/s]\u001b[A\n",
      " 14%|█▍        | 1/7 [00:00<00:02,  2.03it/s]\u001b[A\n",
      " 29%|██▊       | 2/7 [00:01<00:02,  1.97it/s]\u001b[A\n",
      " 43%|████▎     | 3/7 [00:01<00:02,  1.97it/s]\u001b[A\n",
      " 57%|█████▋    | 4/7 [00:02<00:01,  1.98it/s]\u001b[A\n",
      "/home/alari/anaconda3/lib/python3.7/site-packages/matplotlib/axes/_base.py:3099: UserWarning: Attempting to set identical left==right results\n",
      "in singular transformations; automatically expanding.\n",
      "left=1.0, right=1.0\n",
      "  self.set_xlim(upper, lower, auto=None)\n"
     ]
    },
    {
     "data": {
      "image/png": "[encoded data removed]",
      "text/plain": [
       "<Figure size 432x288 with 1 Axes>"
      ]
     },
     "metadata": {
      "needs_background": "light"
     },
     "output_type": "display_data"
    }
   ],
   "source": [
    "%matplotlib inline\n",
    "\n",
    "import functools\n",
    "import itertools\n",
    "import numpy\n",
    "import operator\n",
    "import perfplot\n",
    "\n",
    "\n",
    "def forfor(a):\n",
    "    return [item for sublist in a for item in sublist]\n",
    "\n",
    "\n",
    "def sum_brackets(a):\n",
    "    return sum(a, [])\n",
    "\n",
    "########################## FUNCTIONAL PROGRAMMING OPERATORS ###################\n",
    "\n",
    "def conjunction(*conditions):\n",
    "    return functools.reduce(np.logical_and, conditions)\n",
    "\n",
    "def disjunction(*conditions):\n",
    "    return functools.reduce(np.logical_or, conditions)\n",
    "\n",
    "\n",
    "def functools_reduce(a):\n",
    "    return functools.reduce(operator.concat, a)\n",
    "\n",
    "\n",
    "def functools_reduce_iconcat(a):\n",
    "    return functools.reduce(operator.iconcat, a, [])\n",
    "\n",
    "##################################################################################\n",
    "\n",
    "\n",
    "def itertools_chain(a):\n",
    "    return list(itertools.chain.from_iterable(a))\n",
    "\n",
    "\n",
    "def numpy_flat(a):\n",
    "    return list(numpy.array(a).flat)\n",
    "\n",
    "\n",
    "def numpy_concatenate(a):\n",
    "    return list(numpy.concatenate(a))\n",
    "\n",
    "\n",
    "perfplot.show(\n",
    "    setup=lambda n: [list(range(10))] * n,\n",
    "    kernels=[\n",
    "        forfor, sum_brackets, functools_reduce, functools_reduce_iconcat,\n",
    "        itertools_chain, numpy_flat, numpy_concatenate\n",
    "        ],\n",
    "    n_range=[2**k for k in range(16)],\n",
    "    logx=True,\n",
    "    logy=True,\n",
    "    xlabel='num lists'\n",
    "    )"
   ]
  },
  {
   "cell_type": "markdown",
   "metadata": {},
   "source": [
    "## Role of Functional Programming in Building Data Pipeline in Pandas"
   ]
  },
  {
   "cell_type": "code",
   "execution_count": 3,
   "metadata": {},
   "outputs": [],
   "source": [
    "import pandas as pd\n",
    "import numpy as np\n",
    "import functools\n",
    "from functools import partial\n",
    "def conjunction(*conditions):\n",
    "    return functools.reduce(np.logical_and, conditions)\n",
    "\n",
    "def disjunction(*conditions):\n",
    "    return functools.reduce(np.logical_or, conditions)\n",
    "\n",
    "lambda1 = lambda x: x**2 % 5 == 0\n",
    "lambda2 = lambda x: x**2 % 10 == 0\n",
    "\n",
    "################### GENERATING NECESSARY INPUTS ##########3\n",
    "\n",
    "df = pd.DataFrame(np.random.randint(0,100,size=(100, 4)), columns=list('ABCD'))\n",
    "\n",
    "def divisible_by_5(x):\n",
    "    return x**2 % 5 == 0\n",
    "\n",
    "def divisible_by_10(x):\n",
    "    return x**2 % 10 == 0\n",
    "\n",
    "#################################\n",
    "\n",
    "\n",
    "###################### PANDAS + FUNCTIONAL STARTS ###############################\n",
    "\n",
    "def dictionary_apply_kwargs(dicti_, **kwargs):\n",
    "    \"\"\" Applies a given function to all dictionary items (values)\"\"\"\n",
    "    s = dict()\n",
    "    fun1 = kwargs.get('step1')\n",
    "    arg1 = kwargs.get('arg1')\n",
    "    for k,v in dicti_.items():\n",
    "        if v is not None:\n",
    "            s[k] = fun1(v,arg1)\n",
    "    return s\n",
    "\n",
    "def data_transformer(data=df,conditions=[divisible_by_10,divisible_by_5],**kwargs):\n",
    "    all_true = data[data.apply(conjunction(*conditions))]\n",
    "    any_true =  data[data.apply(disjunction(*conditions))]\n",
    "    dict_ = {'any': any_true, 'all': all_true,\"step2\":None}\n",
    "    if kwargs is not None:\n",
    "        step1 = kwargs.get(\"step1\")\n",
    "        step2 = kwargs.get(\"step2\")\n",
    "    dictionary_apply_kwargs(dicti_=dict_,**kwargs)\n",
    "    \n",
    "    return dict_\n",
    "\n",
    "########################## RUNTIME ##########################\n",
    "arg_one =  50\n",
    "kwargs = {'step1':pd.DataFrame.sub,'arg1':arg_one}\n",
    "from_step_1 = data_transformer(**kwargs)"
   ]
  },
  {
   "cell_type": "code",
   "execution_count": 4,
   "metadata": {},
   "outputs": [
    {
     "data": {
      "text/plain": [
       "{'any':        A     B     C     D\n",
       " 0    NaN   NaN   NaN   NaN\n",
       " 1    NaN   NaN   NaN   NaN\n",
       " 2    NaN   NaN   NaN   NaN\n",
       " 3    NaN  60.0   NaN   NaN\n",
       " 4    NaN   NaN   NaN   NaN\n",
       " 5    NaN   NaN  50.0  90.0\n",
       " 6    NaN   NaN   NaN   NaN\n",
       " 7    NaN   NaN   NaN   NaN\n",
       " 8    NaN   NaN   NaN   NaN\n",
       " 9    NaN   NaN   NaN   NaN\n",
       " 10   NaN   NaN   NaN   NaN\n",
       " 11   NaN   NaN   NaN   NaN\n",
       " 12   NaN   NaN   NaN   NaN\n",
       " 13   NaN   NaN   NaN   NaN\n",
       " 14   NaN   NaN   NaN   NaN\n",
       " 15   NaN   NaN   NaN   NaN\n",
       " 16   NaN   NaN   NaN  20.0\n",
       " 17   NaN   NaN   NaN   NaN\n",
       " 18   NaN   NaN   NaN   NaN\n",
       " 19   NaN   NaN   NaN   NaN\n",
       " 20   NaN   NaN   NaN   0.0\n",
       " 21   NaN   0.0   NaN   NaN\n",
       " 22   NaN   NaN   NaN   NaN\n",
       " 23   NaN   NaN   NaN   NaN\n",
       " 24   NaN  10.0   NaN   NaN\n",
       " 25   NaN   NaN   NaN   NaN\n",
       " 26   NaN   NaN   NaN   NaN\n",
       " 27   NaN  60.0   NaN   NaN\n",
       " 28   NaN   NaN   NaN   NaN\n",
       " 29   NaN   NaN   NaN   NaN\n",
       " ..   ...   ...   ...   ...\n",
       " 70   NaN  80.0   NaN   NaN\n",
       " 71  10.0   NaN   NaN   NaN\n",
       " 72   NaN   NaN   NaN   NaN\n",
       " 73   NaN  10.0   NaN   NaN\n",
       " 74   NaN   NaN   NaN   NaN\n",
       " 75   NaN  30.0   NaN   NaN\n",
       " 76   NaN   NaN   NaN   NaN\n",
       " 77   NaN   NaN   NaN   NaN\n",
       " 78   NaN   NaN   NaN   NaN\n",
       " 79   NaN  20.0   NaN   NaN\n",
       " 80   NaN   NaN   NaN   NaN\n",
       " 81   NaN   NaN   NaN  90.0\n",
       " 82  40.0  80.0   NaN   NaN\n",
       " 83   NaN   NaN   NaN   NaN\n",
       " 84   NaN   NaN   NaN   NaN\n",
       " 85   NaN   NaN   NaN   NaN\n",
       " 86   NaN   NaN   NaN   NaN\n",
       " 87   NaN  90.0   NaN   NaN\n",
       " 88   NaN   NaN   NaN   NaN\n",
       " 89   NaN   NaN   NaN   NaN\n",
       " 90   NaN   NaN  80.0   NaN\n",
       " 91   NaN   NaN   NaN   NaN\n",
       " 92   NaN   NaN   NaN   NaN\n",
       " 93   NaN   NaN   NaN   NaN\n",
       " 94   NaN   NaN   NaN   NaN\n",
       " 95   NaN   NaN   NaN   NaN\n",
       " 96   NaN   NaN  50.0   NaN\n",
       " 97   NaN   NaN   NaN   NaN\n",
       " 98   NaN   NaN   NaN   NaN\n",
       " 99  70.0   NaN   NaN   NaN\n",
       " \n",
       " [100 rows x 4 columns], 'all':        A     B     C     D\n",
       " 0    NaN  25.0   NaN  95.0\n",
       " 1    NaN   5.0  55.0   NaN\n",
       " 2    NaN   NaN   NaN   NaN\n",
       " 3    NaN  60.0   NaN   NaN\n",
       " 4    NaN   NaN  35.0  85.0\n",
       " 5    5.0   NaN  50.0  90.0\n",
       " 6    NaN   NaN  35.0  75.0\n",
       " 7    NaN   NaN   NaN   NaN\n",
       " 8    NaN   NaN   NaN   NaN\n",
       " 9    NaN   NaN   NaN   NaN\n",
       " 10   NaN   NaN   NaN   NaN\n",
       " 11   NaN   NaN   NaN   NaN\n",
       " 12   NaN   NaN   NaN   NaN\n",
       " 13   NaN   NaN   NaN   NaN\n",
       " 14   NaN   NaN   NaN   NaN\n",
       " 15   NaN   NaN   NaN   NaN\n",
       " 16   NaN   NaN   NaN  20.0\n",
       " 17   NaN   NaN   NaN   NaN\n",
       " 18   NaN   NaN  75.0   NaN\n",
       " 19   NaN   NaN   NaN   NaN\n",
       " 20   NaN   NaN   NaN   0.0\n",
       " 21   NaN   0.0   NaN   NaN\n",
       " 22   NaN   NaN   NaN   NaN\n",
       " 23   NaN  45.0   NaN   NaN\n",
       " 24   NaN  10.0   NaN   NaN\n",
       " 25  95.0   NaN   NaN  85.0\n",
       " 26   NaN  55.0   NaN   NaN\n",
       " 27   NaN  60.0   NaN   NaN\n",
       " 28   NaN   NaN   NaN   NaN\n",
       " 29   NaN   NaN   NaN   NaN\n",
       " ..   ...   ...   ...   ...\n",
       " 70  95.0  80.0   NaN   NaN\n",
       " 71  10.0   NaN   NaN   NaN\n",
       " 72   NaN   NaN   NaN   NaN\n",
       " 73   NaN  10.0   NaN   NaN\n",
       " 74   NaN   NaN   NaN   NaN\n",
       " 75  85.0  30.0   NaN   NaN\n",
       " 76   NaN   NaN   NaN   NaN\n",
       " 77   NaN   NaN   NaN   NaN\n",
       " 78   NaN   NaN   NaN   NaN\n",
       " 79   NaN  20.0   NaN   NaN\n",
       " 80   NaN   NaN   NaN   NaN\n",
       " 81   NaN   NaN   NaN  90.0\n",
       " 82  40.0  80.0   NaN   NaN\n",
       " 83   NaN   NaN   NaN   NaN\n",
       " 84   NaN   NaN   NaN   NaN\n",
       " 85   NaN   NaN   NaN   NaN\n",
       " 86   NaN   NaN   NaN  95.0\n",
       " 87   NaN  90.0   NaN   NaN\n",
       " 88   NaN   NaN   NaN   NaN\n",
       " 89   NaN   NaN   NaN   NaN\n",
       " 90   NaN   NaN  80.0   NaN\n",
       " 91   NaN   NaN   NaN  65.0\n",
       " 92   NaN   NaN   NaN   NaN\n",
       " 93   NaN   NaN   NaN   NaN\n",
       " 94  55.0   NaN   NaN   NaN\n",
       " 95   NaN   NaN   NaN   NaN\n",
       " 96   NaN   NaN  50.0   NaN\n",
       " 97   NaN   NaN   NaN   NaN\n",
       " 98   NaN   NaN   NaN   NaN\n",
       " 99  70.0   NaN   NaN   NaN\n",
       " \n",
       " [100 rows x 4 columns], 'step2': None}"
      ]
     },
     "execution_count": 4,
     "metadata": {},
     "output_type": "execute_result"
    }
   ],
   "source": [
    "from_step_1"
   ]
  },
  {
   "cell_type": "code",
   "execution_count": null,
   "metadata": {},
   "outputs": [],
   "source": []
  }
 ],
 "metadata": {
  "kernelspec": {
   "display_name": "Python 3",
   "language": "python",
   "name": "python3"
  },
  "language_info": {
   "codemirror_mode": {
    "name": "ipython",
    "version": 3
   },
   "file_extension": ".py",
   "mimetype": "text/x-python",
   "name": "python",
   "nbconvert_exporter": "python",
   "pygments_lexer": "ipython3",
   "version": "3.7.3"
  },
  "toc": {
   "base_numbering": 1,
   "nav_menu": {},
   "number_sections": true,
   "sideBar": true,
   "skip_h1_title": false,
   "title_cell": "Table of Contents",
   "title_sidebar": "Contents",
   "toc_cell": false,
   "toc_position": {},
   "toc_section_display": true,
   "toc_window_display": false
  },
  "varInspector": {
   "cols": {
    "lenName": 16,
    "lenType": 16,
    "lenVar": 40
   },
   "kernels_config": {
    "python": {
     "delete_cmd_postfix": "",
     "delete_cmd_prefix": "del ",
     "library": "var_list.py",
     "varRefreshCmd": "print(var_dic_list())"
    },
    "r": {
     "delete_cmd_postfix": ") ",
     "delete_cmd_prefix": "rm(",
     "library": "var_list.r",
     "varRefreshCmd": "cat(var_dic_list()) "
    }
   },
   "types_to_exclude": [
    "module",
    "function",
    "builtin_function_or_method",
    "instance",
    "_Feature"
   ],
   "window_display": false
  }
 },
 "nbformat": 4,
 "nbformat_minor": 2
}
