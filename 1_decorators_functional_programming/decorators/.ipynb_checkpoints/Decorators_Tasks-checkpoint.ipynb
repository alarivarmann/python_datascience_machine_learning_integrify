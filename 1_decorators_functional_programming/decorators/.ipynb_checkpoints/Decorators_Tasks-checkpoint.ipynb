{
 "cells": [
  {
   "cell_type": "markdown",
   "metadata": {},
   "source": [
    "## Decorators"
   ]
  },
  {
   "cell_type": "code",
   "execution_count": 1,
   "metadata": {},
   "outputs": [
    {
     "name": "stdout",
     "output_type": "stream",
     "text": [
      "inside my_decorator.__init__()\n",
      "inside aFunction()\n",
      "Finished decorating aFunction()\n",
      "inside my_decorator.__call__()\n"
     ]
    }
   ],
   "source": [
    "# PythonDecorators/my_decorator.py\n",
    "class my_decorator(object):\n",
    "\n",
    "    def __init__(self, f):\n",
    "        print(\"inside my_decorator.__init__()\")\n",
    "        f() # Prove that function definition has completed\n",
    "\n",
    "    def __call__(self):\n",
    "        print(\"inside my_decorator.__call__()\")\n",
    "\n",
    "@my_decorator\n",
    "def aFunction():\n",
    "    print(\"inside aFunction()\")\n",
    "\n",
    "print(\"Finished decorating aFunction()\")\n",
    "\n",
    "aFunction()"
   ]
  },
  {
   "cell_type": "markdown",
   "metadata": {},
   "source": [
    "### Task 1 : \n",
    "\n",
    "Write a function called `double`\n",
    "The function should decorate a function and return two copies of it's return value in a list."
   ]
  },
  {
   "cell_type": "markdown",
   "metadata": {},
   "source": [
    "### Task 2:\n",
    "Write a function call `verify`.\n",
    "The function that is passed to this function should only be called if a keyword argument-value pair role:admin exists, otherwise the function should return \"invalid\""
   ]
  },
  {
   "cell_type": "code",
   "execution_count": null,
   "metadata": {},
   "outputs": [],
   "source": []
  }
 ],
 "metadata": {
  "kernelspec": {
   "display_name": "Python 3",
   "language": "python",
   "name": "python3"
  },
  "language_info": {
   "codemirror_mode": {
    "name": "ipython",
    "version": 3
   },
   "file_extension": ".py",
   "mimetype": "text/x-python",
   "name": "python",
   "nbconvert_exporter": "python",
   "pygments_lexer": "ipython3",
   "version": "3.6.7"
  }
 },
 "nbformat": 4,
 "nbformat_minor": 2
}
