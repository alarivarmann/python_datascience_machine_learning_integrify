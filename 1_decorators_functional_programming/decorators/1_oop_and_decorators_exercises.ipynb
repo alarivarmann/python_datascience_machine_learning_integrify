{
 "cells": [
  {
   "cell_type": "markdown",
   "metadata": {},
   "source": [
    "# Exercises (OOP with Python)\n",
    "## Programming Task 1\n",
    "\n",
    "Create a class `Employee` that has:\n",
    "\n",
    " 1)`init`-method, setting employee's first name : None, rank : 0, last name : None, pay and email in the format firstname.lastname@something.com . The : notation refers to default arguments. (2p)\n",
    " \n",
    "2) Create a static method to check whether a given day (indexed between 0 and 6) is an even number or odd number. The method is called is_even_day and should return True if it is even day, otherwise False. (2p)\n",
    "\n",
    "3) `promote`- method. Promote method promotes the employee's rank by 1 (1p)\n",
    "\n",
    "4) `raise_salary` method with input argument `amount`. This increases the salary of the employee by `amount`. (1p)\n",
    "\n",
    "5) has functionality to count the number of employees. Note that this cannot be done through `self`, but using a class variable. (1p)\n",
    "\n",
    "6) Add a `classmethod` to raise pay by amount (the method inputs the amount as an argument). (2p)\n",
    "\n",
    "7) Create an alternative constructor that uses the class definition instead. (2p)\n",
    "\n",
    "8) Add at least one setter and one getter method of your own choice. (2x1.5p)\n",
    "\n",
    "9) Define a sensible representation method `__repr__` for the class (2p)\n",
    "\n",
    "10) Create a subclass `Ballerina` as a subclass of `Employee`. Make sure to use the `super` in the constructor. The child class should have  one more argument (`dances` : list, that quantifies what types of dances the particular ballerina is able to dance). (2p)\n",
    "\n",
    "11) Create 1 new ballerina worker. (1p)\n",
    "\n",
    "12) Does the help of `Ballerina` print out anything else besides the attributes and methods? If yes, then what? (2p)\n",
    "\n",
    "13) Create a class variable of your own choice to both the `Employee` and `Ballerina` classes. Make sure that they have defined different values in these classes.  Then define a method in the `Employee` class that changes that class variable value. (2p)\n",
    "\n",
    "14) Continues from last point. If you run that method on the `Ballerina` object, which method is called, of that of the base class or child class? (1p)\n",
    "\n",
    "\n"
   ]
  },
  {
   "cell_type": "markdown",
   "metadata": {},
   "source": [
    "Note:\n",
    "The same way as you call an object method `object.method()`, you may call the class method as `Classname.classmethod`, where instead of `self` the classmethod uses `cls` as default input argument, and returns `cls(input_arguments_here)`."
   ]
  },
  {
   "cell_type": "markdown",
   "metadata": {},
   "source": [
    "\n",
    "## Exercise 1: Creating class, attributes, methods with Online Shopping Cart\n",
    "Create a class called _Shopping_\n",
    "1. Each _Shopping_ must contain the following attributes:\n",
    "   - __name__ which indicates the name of the user example: Shopping(\"Rita\")\n",
    "   - __cart__ which indicates the list of goods selected..\n",
    "   - __balance__ which indicates the total cost of the goods selected. Default value is 0.0.\n",
    "   - __price\\_list__ which indicates the list of the prices of the items selected in the same order of item selection\n",
    "   <br>\n",
    "2. Each _Shopping_ must contain the following methods:\n",
    "   - __select__ which takes in the arguments: _item_ indicating item (default value None) selected and _price_ (default value None) indicating price of the good selected. Also, put the option to select items in a list with their prices like a dictionary. Put in an error check such that price is always positive and your code throws an error if user calls the method with a negative price. It should add the price to the price_list and add the price value to __balance__ attribute and the item name to the list attribute __cart__ . Finally it should return the new __cart__ attribute. \n",
    "   - __check_balance__ which returns a print statement as follows: \"Your current balance is {self.balance} Eur\"\n",
    "   - __remove_item__ which takes the attributes: _item_ indicating item(default value: None). It should subtract the price of the selected item from the __balance__ attribute and delete the item name from the list attribute __cart__ along with its price from the price list. Again put the option so that user can remove several items in a list. Put in an error check such that the name belongs to the list of items in cart and your code throws an error if user wants to remove an item which does not exist in the cart. Finally it should return the new __cart__ attribute."
   ]
  },
  {
   "cell_type": "markdown",
   "metadata": {},
   "source": [
    "## Exercise 2: Multiple Inheritance and mro with Mendel's Dominant and Recessive Traits Theory\n",
    "Create two classes __Dominant__ and __Recessive__ having attributes:\n",
    "1. The dominant class has following attributes: __seed_shape__ (default='round'), __pod_color__ (default='green'), __flower_color__(default='purple')\n",
    "2. The recessive class has following attributes: __seed_shape__ (default='wrinkled'), __pod_color__ (default='yellow'), __flower_color__(default='white')\n",
    "3. Create subclass __Pea__ which inherits from the above two classes, having same attributes but donot spcify them. Let Python's mro assign them to the \"dominant\" traits."
   ]
  },
  {
   "cell_type": "markdown",
   "metadata": {},
   "source": [
    "## Exercise 3: Inheritance, name wrangling, class methods with Online Video Calling App\n",
    "Create a class __VideoApp__\n",
    "1. The _VideoApp_ must contain the following class attributes:\n",
    "   - __participants_online__ which contains the number of active callers default to 0\n",
    "   - _action_ containing a list of 2 strings: \"speaking\", \"silent\"\n",
    "2. The_VideoApp_ must contain the class method:\n",
    "   - __show_participants_online__ which returns the following message: \"{cls.participants_online} are attending meeting.\"\n",
    "3.  The _VideoApp_ must contain the following attributes:\n",
    "   - __user_name__ which assigns name of the caller\n",
    "   - _company_ which indicates the company represented by the caller \n",
    "   \n",
    "4.  The _VideoApp_ must contain the following methods: \n",
    "   - __go_online__ which increases the attribute _participants_online by 1\n",
    "   - __go_offline__ which subtracts 1 from the attribute _participants_online and returns the new _participants_online\n",
    "   - _status_ which takes argument _action_ and checks if the action argument matches the string in the _action_ class attribute, otherwise throws ValueError: \"The user must either be \"speaking\" or \"silent\"\". It also returns the message: \"{self.user_name} is _action_\"\n",
    "\n",
    "Create another class __Message__\n",
    "1. It has following attributes: \n",
    "   - __user_name__\n",
    "   - _message_\n",
    "2. It has one method:\n",
    "   -  \\_status\\_ which returns: \"{self.user\\_name} sent the message: {self.message}\". Make this method a  \\_\\_method\n",
    "\n",
    "Create another class __ChatApp__ which inherits from both parent classes in the following order: __VideoApp__ and __Message__ \n",
    "1. Each _ChatApp_ takes same attributes as base classes\n",
    "Now create an instance of this class and explicity call the method \\_\\_status\\_\\_ from Message class"
   ]
  },
  {
   "cell_type": "markdown",
   "metadata": {},
   "source": [
    "## Decorator Exercise :\n",
    "\n",
    "Write a Decorator Function to measure the execution time of looping through a list of 90000 numbers."
   ]
  },
  {
   "cell_type": "markdown",
   "metadata": {
    "collapsed": true
   },
   "source": [
    "## Bonus Exercise (+1 point for the next test)\n",
    "\n",
    "* Create a class `MedicalRecord` without init method.\n",
    "* Created `namedtuple` called `PersonalDetails` with a fieldname `date_of_birth`.\n",
    "* Create a new object `patient_1_details` that is a subclass of Personaldetails, with `date_of_birth` equal to '09-04-1991'.\n",
    "* Create a namedtuple called `Patient_features` with two fieldnames -- `eye_color` and `blood_pressure`.\n",
    "* Create an object patient_1_features with green eyes and blood pressure of 90.\n",
    "\n",
    "* Question 1 : Can you print out the namespaces of both  `patient_1_details` and `PersonalDetails` ? Why/why not?\n",
    "* Task : Add a static method `merge` that is able to concatenate any amount of named tuples. Essentialy it has to return (namedtuple) containing details from all records, in entry order\n",
    "\n",
    "    Example of behaviour:\n",
    "\n",
    "    `print(MedicalRecord.merge(patient_1_details, patient_1_features)) has to result in`\n",
    "    `PersonalDetails_Patient_features(date_of_birth='09-04-1991', eye_color='Green', blood_pressure=90)` .\n",
    "    \n",
    "**HINT : Create a new namedtuple to which you can pass a string that joins first the classes and then uses a certain n-ary operator (which one??) to join the fields of all the arguments passed to the `merge` function.**"
   ]
  },
  {
   "cell_type": "markdown",
   "metadata": {},
   "source": [
    "### Decorator Exercise : \n",
    "\n",
    "Write a function called `double`\n",
    "The function should decorate a function and return two copies of it's return value in a list."
   ]
  },
  {
   "cell_type": "markdown",
   "metadata": {},
   "source": [
    "### Decorator Exercise 2\n",
    "Write a function call `verify`.\n",
    "The function that is passed to this function should only be called if a keyword argument-value pair role:admin exists, otherwise the function should return \"invalid\""
   ]
  },
  {
   "cell_type": "markdown",
   "metadata": {},
   "source": [
    "\n",
    "## Programming Task 2 : Shopping Cart\n",
    "Create a class called _Shopping_\n",
    "\n",
    "1. Each _Shopping_ must contain the following attributes:\n",
    "   - __name__ which indicates the name of the user example: Shopping(\"Rita\") (1.5pp)\n",
    "   - __cart__ which indicates the list of goods selected. (1.5p)\n",
    "   - __balance__ which indicates the total cost of the goods selected. Default value is 0.0. (1p)\n",
    "   - __price\\_list__ which indicates the list of the prices of the items selected in the same order of item selection (1.5p)\n",
    "   \n",
    "   <br>\n",
    "2. Each _Shopping_ must contain the following methods:\n",
    "   - __select__ which takes in the arguments: _item_ indicating item (default value None) selected and _price_ (default value None) indicating price of the good selected. Also, put the option to select items in a list with their prices like a dictionary. Put in an error check such that price is always positive and your code throws an error if user calls the method with a negative price. It should add the price to the price_list and add the price value to __balance__ attribute and the item name to the list attribute __cart__ . Finally it should return the new __cart__ attribute. (4p)\n",
    "   \n",
    "   - __check_balance__ which returns a print statement as follows: \"Your current balance is _balance_ Eur\" (1.5p)\n",
    "   \n",
    "   - __remove_item__ which takes the attributes: _item_ indicating item (default value: None). It should subtract the price of the selected item from the __balance__ attribute and delete the item name from the list attribute __cart__ along with its price from the price list. Again put the option so that user can remove several items in a list. Put in an error check such that the name belongs to the list of items in cart and your code throws an error if user wants to remove an item which does not exist in the cart. Finally it should return the new __cart__ attribute. (4p)"
   ]
  },
  {
   "cell_type": "code",
   "execution_count": null,
   "metadata": {},
   "outputs": [],
   "source": []
  }
 ],
 "metadata": {
  "kernelspec": {
   "display_name": "Python 3",
   "language": "python",
   "name": "python3"
  },
  "language_info": {
   "codemirror_mode": {
    "name": "ipython",
    "version": 3
   },
   "file_extension": ".py",
   "mimetype": "text/x-python",
   "name": "python",
   "nbconvert_exporter": "python",
   "pygments_lexer": "ipython3",
   "version": "3.6.7"
  },
  "toc": {
   "base_numbering": 1,
   "nav_menu": {},
   "number_sections": true,
   "sideBar": true,
   "skip_h1_title": false,
   "title_cell": "Table of Contents",
   "title_sidebar": "Contents",
   "toc_cell": false,
   "toc_position": {},
   "toc_section_display": true,
   "toc_window_display": false
  },
  "varInspector": {
   "cols": {
    "lenName": 16,
    "lenType": 16,
    "lenVar": 40
   },
   "kernels_config": {
    "python": {
     "delete_cmd_postfix": "",
     "delete_cmd_prefix": "del ",
     "library": "var_list.py",
     "varRefreshCmd": "print(var_dic_list())"
    },
    "r": {
     "delete_cmd_postfix": ") ",
     "delete_cmd_prefix": "rm(",
     "library": "var_list.r",
     "varRefreshCmd": "cat(var_dic_list()) "
    }
   },
   "types_to_exclude": [
    "module",
    "function",
    "builtin_function_or_method",
    "instance",
    "_Feature"
   ],
   "window_display": false
  }
 },
 "nbformat": 4,
 "nbformat_minor": 2
}
